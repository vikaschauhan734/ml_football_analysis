{
 "cells": [
  {
   "cell_type": "code",
   "execution_count": 1,
   "metadata": {},
   "outputs": [],
   "source": [
    "from ultralytics import YOLO\n",
    "import cv2\n",
    "import supervision as sv"
   ]
  },
  {
   "cell_type": "code",
   "execution_count": 2,
   "metadata": {},
   "outputs": [],
   "source": [
    "model = YOLO('D:/projects/football_analysis/models/best_11n.pt')"
   ]
  },
  {
   "cell_type": "code",
   "execution_count": 3,
   "metadata": {},
   "outputs": [],
   "source": [
    "cap = cv2.VideoCapture('D:/projects/football_analysis/input_videos/08fd33_4.mp4')\n",
    "frames = []\n",
    "while True:\n",
    "    ret, frame = cap.read()\n",
    "    if not ret:\n",
    "        break\n",
    "    frames.append(frame)"
   ]
  },
  {
   "cell_type": "code",
   "execution_count": 5,
   "metadata": {},
   "outputs": [
    {
     "name": "stdout",
     "output_type": "stream",
     "text": [
      "\n",
      "0: 384x640 1 ball, 1 goalkeeper, 20 players, 4 referees, 64.1ms\n",
      "1: 384x640 1 ball, 1 goalkeeper, 20 players, 4 referees, 64.1ms\n",
      "2: 384x640 1 goalkeeper, 22 players, 4 referees, 64.1ms\n",
      "3: 384x640 1 ball, 1 goalkeeper, 22 players, 4 referees, 64.1ms\n",
      "4: 384x640 1 ball, 1 goalkeeper, 22 players, 3 referees, 64.1ms\n",
      "5: 384x640 1 goalkeeper, 23 players, 4 referees, 64.1ms\n",
      "6: 384x640 1 goalkeeper, 23 players, 4 referees, 64.1ms\n",
      "7: 384x640 1 ball, 1 goalkeeper, 22 players, 4 referees, 64.1ms\n",
      "8: 384x640 1 ball, 1 goalkeeper, 20 players, 4 referees, 64.1ms\n",
      "9: 384x640 1 ball, 20 players, 3 referees, 64.1ms\n",
      "10: 384x640 1 ball, 20 players, 3 referees, 64.1ms\n",
      "11: 384x640 19 players, 3 referees, 64.1ms\n",
      "12: 384x640 20 players, 3 referees, 64.1ms\n",
      "13: 384x640 1 ball, 20 players, 3 referees, 64.1ms\n",
      "14: 384x640 1 ball, 21 players, 3 referees, 64.1ms\n",
      "15: 384x640 23 players, 3 referees, 64.1ms\n",
      "16: 384x640 21 players, 3 referees, 64.1ms\n",
      "17: 384x640 1 ball, 21 players, 3 referees, 64.1ms\n",
      "18: 384x640 1 ball, 21 players, 3 referees, 64.1ms\n",
      "19: 384x640 1 ball, 21 players, 3 referees, 64.1ms\n",
      "Speed: 4.2ms preprocess, 64.1ms inference, 0.8ms postprocess per image at shape (1, 3, 384, 640)\n",
      "\n",
      "0: 384x640 1 ball, 1 goalkeeper, 20 players, 4 referees, 48.9ms\n",
      "1: 384x640 1 ball, 1 goalkeeper, 20 players, 4 referees, 48.9ms\n",
      "2: 384x640 1 goalkeeper, 22 players, 4 referees, 48.9ms\n",
      "3: 384x640 1 ball, 1 goalkeeper, 22 players, 4 referees, 48.9ms\n",
      "4: 384x640 1 ball, 1 goalkeeper, 22 players, 3 referees, 48.9ms\n",
      "5: 384x640 1 goalkeeper, 23 players, 4 referees, 48.9ms\n",
      "6: 384x640 1 goalkeeper, 23 players, 4 referees, 48.9ms\n",
      "7: 384x640 1 ball, 1 goalkeeper, 22 players, 4 referees, 48.9ms\n",
      "8: 384x640 1 ball, 1 goalkeeper, 20 players, 4 referees, 48.9ms\n",
      "9: 384x640 1 ball, 20 players, 3 referees, 48.9ms\n",
      "10: 384x640 1 ball, 20 players, 3 referees, 48.9ms\n",
      "11: 384x640 19 players, 3 referees, 48.9ms\n",
      "12: 384x640 20 players, 3 referees, 48.9ms\n",
      "13: 384x640 1 ball, 20 players, 3 referees, 48.9ms\n",
      "14: 384x640 1 ball, 21 players, 3 referees, 48.9ms\n",
      "15: 384x640 23 players, 3 referees, 48.9ms\n",
      "16: 384x640 21 players, 3 referees, 48.9ms\n",
      "17: 384x640 1 ball, 21 players, 3 referees, 48.9ms\n",
      "18: 384x640 1 ball, 21 players, 3 referees, 48.9ms\n",
      "19: 384x640 1 ball, 21 players, 3 referees, 48.9ms\n",
      "Speed: 4.4ms preprocess, 48.9ms inference, 1.1ms postprocess per image at shape (1, 3, 384, 640)\n"
     ]
    }
   ],
   "source": [
    "detections = []\n",
    "detection = model.predict(frames[:20], conf=0.1)\n",
    "detections += detection\n",
    "detection2 = model.predict(frames[:20], conf=0.1)\n",
    "detections += detection2"
   ]
  },
  {
   "cell_type": "code",
   "execution_count": 6,
   "metadata": {},
   "outputs": [
    {
     "data": {
      "text/plain": [
       "list"
      ]
     },
     "execution_count": 6,
     "metadata": {},
     "output_type": "execute_result"
    }
   ],
   "source": [
    "type(detections)"
   ]
  },
  {
   "cell_type": "code",
   "execution_count": 7,
   "metadata": {},
   "outputs": [
    {
     "data": {
      "text/plain": [
       "40"
      ]
     },
     "execution_count": 7,
     "metadata": {},
     "output_type": "execute_result"
    }
   ],
   "source": [
    "len(detections)"
   ]
  },
  {
   "cell_type": "code",
   "execution_count": 8,
   "metadata": {},
   "outputs": [
    {
     "data": {
      "text/plain": [
       "{0: 'ball', 1: 'goalkeeper', 2: 'player', 3: 'referee'}"
      ]
     },
     "execution_count": 8,
     "metadata": {},
     "output_type": "execute_result"
    }
   ],
   "source": [
    "detections[1].names"
   ]
  },
  {
   "cell_type": "markdown",
   "metadata": {},
   "source": [
    "38 prediction k baad 39 frame pe dikkat aa rhi h\n",
    "\n",
    "  File \"D:\\projects\\football_analysis\\main.py\", line 11, in main\n",
    "    tracks = tracke.get_object_tracks(video_frames, read_from_stub=True, stub_path='stubs/track_stubs.pkl')\n",
    "             ^^^^^^^^^^^^^^^^^^^^^^^^^^^^^^^^^^^^^^^^^^^^^^^^^^^^^^^^^^^^^^^^^^^^^^^^^^^^^^^^^^^^^^^^^^^^^^\n",
    "  File \"D:\\projects\\football_analysis\\src\\trackers\\tracker.py\", line 60, in get_object_tracks\n",
    "    tracks[\"players\"][frame_num][track_id] = {\"bbox\":bbox}\n",
    "    ~~~~~~~~~~~~~~~~~^^^^^^^^^^^\n",
    "IndexError: list index out of range"
   ]
  },
  {
   "cell_type": "code",
   "execution_count": 9,
   "metadata": {},
   "outputs": [],
   "source": [
    "model = YOLO('D:/projects/football_analysis/models/best_11n.pt')"
   ]
  },
  {
   "cell_type": "code",
   "execution_count": 10,
   "metadata": {},
   "outputs": [],
   "source": [
    "cap = cv2.VideoCapture('D:/projects/football_analysis/input_videos/08fd33_4.mp4')\n",
    "frames = []\n",
    "while True:\n",
    "    ret, frame = cap.read()\n",
    "    if not ret:\n",
    "        break\n",
    "    frames.append(frame)"
   ]
  },
  {
   "cell_type": "code",
   "execution_count": 12,
   "metadata": {},
   "outputs": [
    {
     "data": {
      "text/plain": [
       "750"
      ]
     },
     "execution_count": 12,
     "metadata": {},
     "output_type": "execute_result"
    }
   ],
   "source": [
    "len(frames)"
   ]
  },
  {
   "cell_type": "code",
   "execution_count": 16,
   "metadata": {},
   "outputs": [
    {
     "data": {
      "text/plain": [
       "(1080, 1920, 3)"
      ]
     },
     "execution_count": 16,
     "metadata": {},
     "output_type": "execute_result"
    }
   ],
   "source": [
    "frames[0].shape"
   ]
  },
  {
   "cell_type": "code",
   "execution_count": 17,
   "metadata": {},
   "outputs": [
    {
     "data": {
      "text/plain": [
       "(1080, 1920, 3)"
      ]
     },
     "execution_count": 17,
     "metadata": {},
     "output_type": "execute_result"
    }
   ],
   "source": [
    "frames[1].shape"
   ]
  },
  {
   "cell_type": "code",
   "execution_count": 19,
   "metadata": {},
   "outputs": [
    {
     "name": "stdout",
     "output_type": "stream",
     "text": [
      "\n",
      "0: 384x640 1 ball, 1 goalkeeper, 20 players, 4 referees, 52.5ms\n",
      "1: 384x640 1 ball, 1 goalkeeper, 20 players, 4 referees, 52.5ms\n",
      "2: 384x640 1 goalkeeper, 22 players, 4 referees, 52.5ms\n",
      "3: 384x640 1 ball, 1 goalkeeper, 22 players, 4 referees, 52.5ms\n",
      "4: 384x640 1 ball, 1 goalkeeper, 22 players, 3 referees, 52.5ms\n",
      "5: 384x640 1 goalkeeper, 23 players, 4 referees, 52.5ms\n",
      "6: 384x640 1 goalkeeper, 23 players, 4 referees, 52.5ms\n",
      "7: 384x640 1 ball, 1 goalkeeper, 22 players, 4 referees, 52.5ms\n",
      "8: 384x640 1 ball, 1 goalkeeper, 20 players, 4 referees, 52.5ms\n",
      "9: 384x640 1 ball, 20 players, 3 referees, 52.5ms\n",
      "10: 384x640 1 ball, 20 players, 3 referees, 52.5ms\n",
      "11: 384x640 19 players, 3 referees, 52.5ms\n",
      "12: 384x640 20 players, 3 referees, 52.5ms\n",
      "13: 384x640 1 ball, 20 players, 3 referees, 52.5ms\n",
      "14: 384x640 1 ball, 21 players, 3 referees, 52.5ms\n",
      "15: 384x640 23 players, 3 referees, 52.5ms\n",
      "16: 384x640 21 players, 3 referees, 52.5ms\n",
      "17: 384x640 1 ball, 21 players, 3 referees, 52.5ms\n",
      "18: 384x640 1 ball, 21 players, 3 referees, 52.5ms\n",
      "19: 384x640 1 ball, 21 players, 3 referees, 52.5ms\n",
      "Speed: 5.1ms preprocess, 52.5ms inference, 1.3ms postprocess per image at shape (1, 3, 384, 640)\n",
      "\n",
      "0: 384x640 2 balls, 22 players, 4 referees, 59.4ms\n",
      "1: 384x640 1 ball, 22 players, 4 referees, 59.4ms\n",
      "2: 384x640 1 ball, 23 players, 4 referees, 59.4ms\n",
      "3: 384x640 22 players, 4 referees, 59.4ms\n",
      "4: 384x640 22 players, 3 referees, 59.4ms\n",
      "5: 384x640 20 players, 3 referees, 59.4ms\n",
      "6: 384x640 20 players, 3 referees, 59.4ms\n",
      "7: 384x640 21 players, 3 referees, 59.4ms\n",
      "8: 384x640 21 players, 4 referees, 59.4ms\n",
      "9: 384x640 20 players, 4 referees, 59.4ms\n",
      "10: 384x640 1 ball, 21 players, 4 referees, 59.4ms\n",
      "11: 384x640 1 ball, 21 players, 4 referees, 59.4ms\n",
      "12: 384x640 20 players, 3 referees, 59.4ms\n",
      "13: 384x640 1 ball, 21 players, 5 referees, 59.4ms\n",
      "14: 384x640 2 balls, 21 players, 5 referees, 59.4ms\n",
      "15: 384x640 2 balls, 20 players, 5 referees, 59.4ms\n",
      "16: 384x640 1 ball, 20 players, 4 referees, 59.4ms\n",
      "17: 384x640 1 ball, 20 players, 5 referees, 59.4ms\n",
      "18: 384x640 1 ball, 20 players, 4 referees, 59.4ms\n",
      "19: 384x640 1 ball, 20 players, 3 referees, 59.4ms\n",
      "Speed: 5.3ms preprocess, 59.4ms inference, 1.2ms postprocess per image at shape (1, 3, 384, 640)\n",
      "\n",
      "0: 384x640 2 balls, 20 players, 5 referees, 65.1ms\n",
      "1: 384x640 1 ball, 20 players, 3 referees, 65.1ms\n",
      "2: 384x640 1 ball, 20 players, 3 referees, 65.1ms\n",
      "3: 384x640 20 players, 3 referees, 65.1ms\n",
      "4: 384x640 1 ball, 21 players, 3 referees, 65.1ms\n",
      "5: 384x640 1 ball, 22 players, 3 referees, 65.1ms\n",
      "6: 384x640 21 players, 3 referees, 65.1ms\n",
      "7: 384x640 20 players, 3 referees, 65.1ms\n",
      "8: 384x640 20 players, 3 referees, 65.1ms\n",
      "9: 384x640 20 players, 4 referees, 65.1ms\n",
      "10: 384x640 20 players, 2 referees, 65.1ms\n",
      "11: 384x640 20 players, 3 referees, 65.1ms\n",
      "12: 384x640 20 players, 2 referees, 65.1ms\n",
      "13: 384x640 21 players, 2 referees, 65.1ms\n",
      "14: 384x640 1 ball, 21 players, 2 referees, 65.1ms\n",
      "15: 384x640 1 ball, 21 players, 2 referees, 65.1ms\n",
      "16: 384x640 1 ball, 20 players, 2 referees, 65.1ms\n",
      "17: 384x640 1 ball, 20 players, 2 referees, 65.1ms\n",
      "18: 384x640 20 players, 2 referees, 65.1ms\n",
      "19: 384x640 20 players, 2 referees, 65.1ms\n",
      "Speed: 5.8ms preprocess, 65.1ms inference, 1.0ms postprocess per image at shape (1, 3, 384, 640)\n",
      "\n",
      "0: 384x640 20 players, 3 referees, 54.6ms\n",
      "1: 384x640 21 players, 3 referees, 54.6ms\n",
      "2: 384x640 1 ball, 21 players, 2 referees, 54.6ms\n",
      "3: 384x640 2 balls, 21 players, 3 referees, 54.6ms\n",
      "4: 384x640 2 balls, 21 players, 1 referee, 54.6ms\n",
      "5: 384x640 1 ball, 20 players, 3 referees, 54.6ms\n",
      "6: 384x640 1 ball, 20 players, 2 referees, 54.6ms\n",
      "7: 384x640 1 ball, 21 players, 2 referees, 54.6ms\n",
      "8: 384x640 20 players, 3 referees, 54.6ms\n",
      "9: 384x640 2 balls, 20 players, 2 referees, 54.6ms\n",
      "10: 384x640 1 ball, 20 players, 3 referees, 54.6ms\n",
      "11: 384x640 1 ball, 20 players, 2 referees, 54.6ms\n",
      "12: 384x640 1 ball, 20 players, 2 referees, 54.6ms\n",
      "13: 384x640 1 ball, 20 players, 2 referees, 54.6ms\n",
      "14: 384x640 1 ball, 22 players, 3 referees, 54.6ms\n",
      "15: 384x640 1 ball, 22 players, 1 referee, 54.6ms\n",
      "16: 384x640 1 ball, 20 players, 2 referees, 54.6ms\n",
      "17: 384x640 1 ball, 20 players, 3 referees, 54.6ms\n",
      "18: 384x640 1 ball, 21 players, 2 referees, 54.6ms\n",
      "19: 384x640 1 ball, 20 players, 2 referees, 54.6ms\n",
      "Speed: 5.2ms preprocess, 54.6ms inference, 1.2ms postprocess per image at shape (1, 3, 384, 640)\n",
      "\n",
      "0: 384x640 20 players, 2 referees, 59.2ms\n",
      "1: 384x640 20 players, 2 referees, 59.2ms\n",
      "2: 384x640 20 players, 2 referees, 59.2ms\n",
      "3: 384x640 1 ball, 20 players, 2 referees, 59.2ms\n",
      "4: 384x640 1 ball, 20 players, 3 referees, 59.2ms\n",
      "5: 384x640 2 balls, 21 players, 3 referees, 59.2ms\n",
      "6: 384x640 1 ball, 20 players, 2 referees, 59.2ms\n",
      "7: 384x640 1 ball, 20 players, 2 referees, 59.2ms\n",
      "8: 384x640 1 ball, 20 players, 2 referees, 59.2ms\n",
      "9: 384x640 1 ball, 20 players, 2 referees, 59.2ms\n",
      "10: 384x640 1 ball, 22 players, 2 referees, 59.2ms\n",
      "11: 384x640 2 balls, 20 players, 2 referees, 59.2ms\n",
      "12: 384x640 2 balls, 22 players, 2 referees, 59.2ms\n",
      "13: 384x640 1 ball, 21 players, 2 referees, 59.2ms\n",
      "14: 384x640 1 ball, 22 players, 2 referees, 59.2ms\n",
      "15: 384x640 1 ball, 22 players, 2 referees, 59.2ms\n",
      "16: 384x640 20 players, 2 referees, 59.2ms\n",
      "17: 384x640 20 players, 2 referees, 59.2ms\n",
      "18: 384x640 21 players, 2 referees, 59.2ms\n",
      "19: 384x640 21 players, 2 referees, 59.2ms\n",
      "Speed: 5.2ms preprocess, 59.2ms inference, 1.3ms postprocess per image at shape (1, 3, 384, 640)\n",
      "\n",
      "0: 384x640 1 ball, 21 players, 2 referees, 48.5ms\n",
      "1: 384x640 1 ball, 22 players, 2 referees, 48.5ms\n",
      "2: 384x640 1 ball, 20 players, 2 referees, 48.5ms\n",
      "3: 384x640 1 ball, 22 players, 3 referees, 48.5ms\n",
      "4: 384x640 1 ball, 21 players, 2 referees, 48.5ms\n",
      "5: 384x640 1 ball, 20 players, 2 referees, 48.5ms\n",
      "6: 384x640 1 ball, 21 players, 2 referees, 48.5ms\n",
      "7: 384x640 20 players, 2 referees, 48.5ms\n",
      "8: 384x640 20 players, 2 referees, 48.5ms\n",
      "9: 384x640 1 ball, 20 players, 2 referees, 48.5ms\n",
      "10: 384x640 1 ball, 20 players, 3 referees, 48.5ms\n",
      "11: 384x640 21 players, 3 referees, 48.5ms\n",
      "12: 384x640 1 ball, 21 players, 2 referees, 48.5ms\n",
      "13: 384x640 1 ball, 22 players, 2 referees, 48.5ms\n",
      "14: 384x640 22 players, 2 referees, 48.5ms\n",
      "15: 384x640 1 ball, 21 players, 2 referees, 48.5ms\n",
      "16: 384x640 22 players, 2 referees, 48.5ms\n",
      "17: 384x640 1 goalkeeper, 22 players, 2 referees, 48.5ms\n",
      "18: 384x640 1 goalkeeper, 22 players, 2 referees, 48.5ms\n",
      "19: 384x640 1 goalkeeper, 23 players, 3 referees, 48.5ms\n",
      "Speed: 5.3ms preprocess, 48.5ms inference, 0.9ms postprocess per image at shape (1, 3, 384, 640)\n",
      "\n",
      "0: 384x640 1 goalkeeper, 22 players, 3 referees, 55.4ms\n",
      "1: 384x640 1 goalkeeper, 20 players, 1 referee, 55.4ms\n",
      "2: 384x640 1 goalkeeper, 20 players, 2 referees, 55.4ms\n",
      "3: 384x640 1 goalkeeper, 21 players, 2 referees, 55.4ms\n",
      "4: 384x640 1 goalkeeper, 19 players, 1 referee, 55.4ms\n",
      "5: 384x640 1 goalkeeper, 20 players, 5 referees, 55.4ms\n",
      "6: 384x640 1 goalkeeper, 18 players, 2 referees, 55.4ms\n",
      "7: 384x640 1 goalkeeper, 19 players, 1 referee, 55.4ms\n",
      "8: 384x640 1 ball, 1 goalkeeper, 18 players, 3 referees, 55.4ms\n",
      "9: 384x640 1 ball, 2 goalkeepers, 19 players, 3 referees, 55.4ms\n",
      "10: 384x640 1 goalkeeper, 19 players, 2 referees, 55.4ms\n",
      "11: 384x640 2 goalkeepers, 21 players, 3 referees, 55.4ms\n",
      "12: 384x640 1 ball, 1 goalkeeper, 20 players, 2 referees, 55.4ms\n",
      "13: 384x640 1 ball, 1 goalkeeper, 21 players, 3 referees, 55.4ms\n",
      "14: 384x640 1 goalkeeper, 21 players, 2 referees, 55.4ms\n",
      "15: 384x640 1 goalkeeper, 20 players, 2 referees, 55.4ms\n",
      "16: 384x640 1 ball, 1 goalkeeper, 22 players, 1 referee, 55.4ms\n",
      "17: 384x640 1 ball, 1 goalkeeper, 22 players, 1 referee, 55.4ms\n",
      "18: 384x640 1 goalkeeper, 21 players, 1 referee, 55.4ms\n",
      "19: 384x640 1 goalkeeper, 19 players, 1 referee, 55.4ms\n",
      "Speed: 4.8ms preprocess, 55.4ms inference, 1.0ms postprocess per image at shape (1, 3, 384, 640)\n",
      "\n",
      "0: 384x640 1 goalkeeper, 22 players, 1 referee, 53.0ms\n",
      "1: 384x640 1 ball, 1 goalkeeper, 23 players, 2 referees, 53.0ms\n",
      "2: 384x640 1 goalkeeper, 21 players, 1 referee, 53.0ms\n",
      "3: 384x640 1 ball, 1 goalkeeper, 21 players, 2 referees, 53.0ms\n",
      "4: 384x640 1 ball, 1 goalkeeper, 19 players, 2 referees, 53.0ms\n",
      "5: 384x640 1 ball, 1 goalkeeper, 22 players, 2 referees, 53.0ms\n",
      "6: 384x640 2 balls, 1 goalkeeper, 21 players, 2 referees, 53.0ms\n",
      "7: 384x640 1 ball, 1 goalkeeper, 22 players, 2 referees, 53.0ms\n",
      "8: 384x640 1 ball, 1 goalkeeper, 23 players, 2 referees, 53.0ms\n",
      "9: 384x640 1 ball, 1 goalkeeper, 21 players, 2 referees, 53.0ms\n",
      "10: 384x640 1 ball, 1 goalkeeper, 21 players, 3 referees, 53.0ms\n",
      "11: 384x640 1 ball, 1 goalkeeper, 23 players, 3 referees, 53.0ms\n",
      "12: 384x640 1 ball, 1 goalkeeper, 22 players, 3 referees, 53.0ms\n",
      "13: 384x640 1 goalkeeper, 22 players, 2 referees, 53.0ms\n",
      "14: 384x640 1 goalkeeper, 22 players, 1 referee, 53.0ms\n",
      "15: 384x640 1 goalkeeper, 23 players, 1 referee, 53.0ms\n",
      "16: 384x640 1 goalkeeper, 22 players, 2 referees, 53.0ms\n",
      "17: 384x640 1 goalkeeper, 21 players, 2 referees, 53.0ms\n",
      "18: 384x640 1 goalkeeper, 20 players, 2 referees, 53.0ms\n",
      "19: 384x640 1 goalkeeper, 19 players, 2 referees, 53.0ms\n",
      "Speed: 5.0ms preprocess, 53.0ms inference, 1.0ms postprocess per image at shape (1, 3, 384, 640)\n",
      "\n",
      "0: 384x640 1 goalkeeper, 21 players, 3 referees, 48.8ms\n",
      "1: 384x640 1 goalkeeper, 21 players, 3 referees, 48.8ms\n",
      "2: 384x640 1 ball, 1 goalkeeper, 21 players, 3 referees, 48.8ms\n",
      "3: 384x640 1 ball, 1 goalkeeper, 22 players, 3 referees, 48.8ms\n",
      "4: 384x640 1 ball, 1 goalkeeper, 21 players, 3 referees, 48.8ms\n",
      "5: 384x640 1 ball, 1 goalkeeper, 21 players, 3 referees, 48.8ms\n",
      "6: 384x640 1 goalkeeper, 20 players, 3 referees, 48.8ms\n",
      "7: 384x640 1 goalkeeper, 22 players, 3 referees, 48.8ms\n",
      "8: 384x640 1 ball, 1 goalkeeper, 21 players, 3 referees, 48.8ms\n",
      "9: 384x640 2 goalkeepers, 21 players, 3 referees, 48.8ms\n",
      "10: 384x640 1 goalkeeper, 21 players, 3 referees, 48.8ms\n",
      "11: 384x640 1 goalkeeper, 21 players, 4 referees, 48.8ms\n",
      "12: 384x640 1 goalkeeper, 21 players, 4 referees, 48.8ms\n",
      "13: 384x640 1 goalkeeper, 21 players, 4 referees, 48.8ms\n",
      "14: 384x640 1 goalkeeper, 23 players, 5 referees, 48.8ms\n",
      "15: 384x640 1 goalkeeper, 23 players, 3 referees, 48.8ms\n",
      "16: 384x640 1 goalkeeper, 22 players, 3 referees, 48.8ms\n",
      "17: 384x640 1 goalkeeper, 22 players, 3 referees, 48.8ms\n",
      "18: 384x640 1 goalkeeper, 22 players, 3 referees, 48.8ms\n",
      "19: 384x640 1 goalkeeper, 22 players, 4 referees, 48.8ms\n",
      "Speed: 5.0ms preprocess, 48.8ms inference, 0.8ms postprocess per image at shape (1, 3, 384, 640)\n",
      "\n",
      "0: 384x640 1 goalkeeper, 21 players, 3 referees, 46.0ms\n",
      "1: 384x640 1 goalkeeper, 20 players, 3 referees, 46.0ms\n",
      "2: 384x640 1 goalkeeper, 20 players, 3 referees, 46.0ms\n",
      "3: 384x640 1 goalkeeper, 19 players, 3 referees, 46.0ms\n",
      "4: 384x640 1 goalkeeper, 19 players, 3 referees, 46.0ms\n",
      "5: 384x640 1 goalkeeper, 20 players, 3 referees, 46.0ms\n",
      "6: 384x640 1 goalkeeper, 23 players, 3 referees, 46.0ms\n",
      "7: 384x640 1 goalkeeper, 23 players, 3 referees, 46.0ms\n",
      "8: 384x640 1 goalkeeper, 23 players, 3 referees, 46.0ms\n",
      "9: 384x640 1 goalkeeper, 21 players, 3 referees, 46.0ms\n",
      "10: 384x640 1 goalkeeper, 23 players, 2 referees, 46.0ms\n",
      "11: 384x640 1 goalkeeper, 22 players, 3 referees, 46.0ms\n",
      "12: 384x640 1 goalkeeper, 19 players, 4 referees, 46.0ms\n",
      "13: 384x640 1 goalkeeper, 21 players, 5 referees, 46.0ms\n",
      "14: 384x640 1 goalkeeper, 20 players, 4 referees, 46.0ms\n",
      "15: 384x640 1 goalkeeper, 19 players, 4 referees, 46.0ms\n",
      "16: 384x640 1 goalkeeper, 20 players, 4 referees, 46.0ms\n",
      "17: 384x640 1 goalkeeper, 20 players, 4 referees, 46.0ms\n",
      "18: 384x640 1 ball, 1 goalkeeper, 18 players, 4 referees, 46.0ms\n",
      "19: 384x640 1 ball, 1 goalkeeper, 19 players, 4 referees, 46.0ms\n",
      "Speed: 4.3ms preprocess, 46.0ms inference, 0.3ms postprocess per image at shape (1, 3, 384, 640)\n",
      "\n",
      "0: 384x640 1 ball, 1 goalkeeper, 18 players, 4 referees, 45.4ms\n",
      "1: 384x640 1 ball, 1 goalkeeper, 18 players, 4 referees, 45.4ms\n",
      "2: 384x640 1 goalkeeper, 19 players, 4 referees, 45.4ms\n",
      "3: 384x640 1 goalkeeper, 19 players, 4 referees, 45.4ms\n",
      "4: 384x640 1 goalkeeper, 21 players, 4 referees, 45.4ms\n",
      "5: 384x640 2 goalkeepers, 20 players, 4 referees, 45.4ms\n",
      "6: 384x640 2 goalkeepers, 21 players, 4 referees, 45.4ms\n",
      "7: 384x640 2 goalkeepers, 20 players, 3 referees, 45.4ms\n",
      "8: 384x640 1 goalkeeper, 19 players, 3 referees, 45.4ms\n",
      "9: 384x640 1 goalkeeper, 19 players, 3 referees, 45.4ms\n",
      "10: 384x640 1 goalkeeper, 21 players, 3 referees, 45.4ms\n",
      "11: 384x640 1 goalkeeper, 21 players, 3 referees, 45.4ms\n",
      "12: 384x640 1 goalkeeper, 23 players, 3 referees, 45.4ms\n",
      "13: 384x640 1 goalkeeper, 23 players, 3 referees, 45.4ms\n",
      "14: 384x640 1 goalkeeper, 22 players, 3 referees, 45.4ms\n",
      "15: 384x640 1 goalkeeper, 20 players, 3 referees, 45.4ms\n",
      "16: 384x640 1 goalkeeper, 20 players, 4 referees, 45.4ms\n",
      "17: 384x640 1 goalkeeper, 20 players, 4 referees, 45.4ms\n",
      "18: 384x640 1 goalkeeper, 20 players, 3 referees, 45.4ms\n",
      "19: 384x640 1 goalkeeper, 20 players, 3 referees, 45.4ms\n",
      "Speed: 4.5ms preprocess, 45.4ms inference, 0.9ms postprocess per image at shape (1, 3, 384, 640)\n",
      "\n",
      "0: 384x640 1 goalkeeper, 20 players, 3 referees, 45.4ms\n",
      "1: 384x640 1 goalkeeper, 21 players, 3 referees, 45.4ms\n",
      "2: 384x640 1 goalkeeper, 20 players, 3 referees, 45.4ms\n",
      "3: 384x640 1 goalkeeper, 20 players, 3 referees, 45.4ms\n",
      "4: 384x640 1 goalkeeper, 21 players, 4 referees, 45.4ms\n",
      "5: 384x640 1 goalkeeper, 20 players, 4 referees, 45.4ms\n",
      "6: 384x640 1 goalkeeper, 22 players, 3 referees, 45.4ms\n",
      "7: 384x640 1 goalkeeper, 22 players, 3 referees, 45.4ms\n",
      "8: 384x640 1 goalkeeper, 23 players, 3 referees, 45.4ms\n",
      "9: 384x640 1 goalkeeper, 21 players, 5 referees, 45.4ms\n",
      "10: 384x640 1 goalkeeper, 18 players, 5 referees, 45.4ms\n",
      "11: 384x640 1 goalkeeper, 18 players, 6 referees, 45.4ms\n",
      "12: 384x640 1 goalkeeper, 20 players, 5 referees, 45.4ms\n",
      "13: 384x640 1 goalkeeper, 19 players, 5 referees, 45.4ms\n",
      "14: 384x640 1 goalkeeper, 20 players, 5 referees, 45.4ms\n",
      "15: 384x640 1 goalkeeper, 20 players, 5 referees, 45.4ms\n",
      "16: 384x640 1 goalkeeper, 20 players, 4 referees, 45.4ms\n",
      "17: 384x640 1 goalkeeper, 21 players, 5 referees, 45.4ms\n",
      "18: 384x640 1 goalkeeper, 22 players, 4 referees, 45.4ms\n",
      "19: 384x640 1 goalkeeper, 21 players, 4 referees, 45.4ms\n",
      "Speed: 5.1ms preprocess, 45.4ms inference, 0.9ms postprocess per image at shape (1, 3, 384, 640)\n",
      "\n",
      "0: 384x640 1 goalkeeper, 19 players, 4 referees, 44.7ms\n",
      "1: 384x640 1 goalkeeper, 21 players, 4 referees, 44.7ms\n",
      "2: 384x640 1 goalkeeper, 21 players, 4 referees, 44.7ms\n",
      "3: 384x640 1 goalkeeper, 20 players, 4 referees, 44.7ms\n",
      "4: 384x640 1 goalkeeper, 20 players, 4 referees, 44.7ms\n",
      "5: 384x640 1 goalkeeper, 21 players, 4 referees, 44.7ms\n",
      "6: 384x640 1 goalkeeper, 20 players, 4 referees, 44.7ms\n",
      "7: 384x640 1 goalkeeper, 21 players, 4 referees, 44.7ms\n",
      "8: 384x640 1 goalkeeper, 20 players, 4 referees, 44.7ms\n",
      "9: 384x640 1 goalkeeper, 20 players, 4 referees, 44.7ms\n",
      "10: 384x640 1 goalkeeper, 20 players, 5 referees, 44.7ms\n",
      "11: 384x640 1 goalkeeper, 20 players, 5 referees, 44.7ms\n",
      "12: 384x640 1 goalkeeper, 22 players, 5 referees, 44.7ms\n",
      "13: 384x640 1 goalkeeper, 22 players, 4 referees, 44.7ms\n",
      "14: 384x640 1 goalkeeper, 23 players, 4 referees, 44.7ms\n",
      "15: 384x640 1 goalkeeper, 23 players, 4 referees, 44.7ms\n",
      "16: 384x640 1 goalkeeper, 23 players, 4 referees, 44.7ms\n",
      "17: 384x640 1 goalkeeper, 24 players, 4 referees, 44.7ms\n",
      "18: 384x640 1 goalkeeper, 24 players, 4 referees, 44.7ms\n",
      "19: 384x640 1 goalkeeper, 24 players, 3 referees, 44.7ms\n",
      "Speed: 4.5ms preprocess, 44.7ms inference, 0.8ms postprocess per image at shape (1, 3, 384, 640)\n",
      "\n",
      "0: 384x640 1 goalkeeper, 24 players, 3 referees, 46.4ms\n",
      "1: 384x640 24 players, 3 referees, 46.4ms\n",
      "2: 384x640 23 players, 3 referees, 46.4ms\n",
      "3: 384x640 22 players, 3 referees, 46.4ms\n",
      "4: 384x640 23 players, 3 referees, 46.4ms\n",
      "5: 384x640 22 players, 3 referees, 46.4ms\n",
      "6: 384x640 23 players, 3 referees, 46.4ms\n",
      "7: 384x640 23 players, 3 referees, 46.4ms\n",
      "8: 384x640 22 players, 3 referees, 46.4ms\n",
      "9: 384x640 22 players, 3 referees, 46.4ms\n",
      "10: 384x640 23 players, 3 referees, 46.4ms\n",
      "11: 384x640 1 goalkeeper, 21 players, 3 referees, 46.4ms\n",
      "12: 384x640 1 goalkeeper, 20 players, 3 referees, 46.4ms\n",
      "13: 384x640 1 goalkeeper, 20 players, 3 referees, 46.4ms\n",
      "14: 384x640 1 goalkeeper, 20 players, 3 referees, 46.4ms\n",
      "15: 384x640 1 goalkeeper, 19 players, 3 referees, 46.4ms\n",
      "16: 384x640 1 goalkeeper, 19 players, 3 referees, 46.4ms\n",
      "17: 384x640 1 goalkeeper, 19 players, 3 referees, 46.4ms\n",
      "18: 384x640 1 goalkeeper, 18 players, 3 referees, 46.4ms\n",
      "19: 384x640 1 goalkeeper, 20 players, 3 referees, 46.4ms\n",
      "Speed: 4.6ms preprocess, 46.4ms inference, 0.9ms postprocess per image at shape (1, 3, 384, 640)\n",
      "\n",
      "0: 384x640 1 goalkeeper, 20 players, 3 referees, 56.9ms\n",
      "1: 384x640 1 goalkeeper, 21 players, 3 referees, 56.9ms\n",
      "2: 384x640 19 players, 3 referees, 56.9ms\n",
      "3: 384x640 1 ball, 21 players, 3 referees, 56.9ms\n",
      "4: 384x640 18 players, 3 referees, 56.9ms\n",
      "5: 384x640 1 ball, 19 players, 3 referees, 56.9ms\n",
      "6: 384x640 1 ball, 19 players, 3 referees, 56.9ms\n",
      "7: 384x640 1 ball, 20 players, 3 referees, 56.9ms\n",
      "8: 384x640 1 ball, 21 players, 3 referees, 56.9ms\n",
      "9: 384x640 1 ball, 21 players, 3 referees, 56.9ms\n",
      "10: 384x640 1 ball, 20 players, 3 referees, 56.9ms\n",
      "11: 384x640 1 ball, 22 players, 3 referees, 56.9ms\n",
      "12: 384x640 23 players, 3 referees, 56.9ms\n",
      "13: 384x640 22 players, 3 referees, 56.9ms\n",
      "14: 384x640 22 players, 3 referees, 56.9ms\n",
      "15: 384x640 21 players, 3 referees, 56.9ms\n",
      "16: 384x640 21 players, 3 referees, 56.9ms\n",
      "17: 384x640 23 players, 3 referees, 56.9ms\n",
      "18: 384x640 23 players, 3 referees, 56.9ms\n",
      "19: 384x640 21 players, 3 referees, 56.9ms\n",
      "Speed: 7.1ms preprocess, 56.9ms inference, 1.0ms postprocess per image at shape (1, 3, 384, 640)\n",
      "\n",
      "0: 384x640 21 players, 2 referees, 46.5ms\n",
      "1: 384x640 23 players, 2 referees, 46.5ms\n",
      "2: 384x640 22 players, 3 referees, 46.5ms\n",
      "3: 384x640 24 players, 3 referees, 46.5ms\n",
      "4: 384x640 23 players, 3 referees, 46.5ms\n",
      "5: 384x640 1 ball, 22 players, 3 referees, 46.5ms\n",
      "6: 384x640 1 ball, 22 players, 3 referees, 46.5ms\n",
      "7: 384x640 22 players, 3 referees, 46.5ms\n",
      "8: 384x640 22 players, 3 referees, 46.5ms\n",
      "9: 384x640 1 ball, 21 players, 3 referees, 46.5ms\n",
      "10: 384x640 1 ball, 20 players, 3 referees, 46.5ms\n",
      "11: 384x640 1 ball, 21 players, 3 referees, 46.5ms\n",
      "12: 384x640 21 players, 3 referees, 46.5ms\n",
      "13: 384x640 21 players, 3 referees, 46.5ms\n",
      "14: 384x640 1 goalkeeper, 21 players, 3 referees, 46.5ms\n",
      "15: 384x640 1 goalkeeper, 21 players, 3 referees, 46.5ms\n",
      "16: 384x640 1 goalkeeper, 23 players, 3 referees, 46.5ms\n",
      "17: 384x640 1 ball, 22 players, 3 referees, 46.5ms\n",
      "18: 384x640 1 ball, 1 goalkeeper, 23 players, 3 referees, 46.5ms\n",
      "19: 384x640 21 players, 3 referees, 46.5ms\n",
      "Speed: 4.6ms preprocess, 46.5ms inference, 1.0ms postprocess per image at shape (1, 3, 384, 640)\n",
      "\n",
      "0: 384x640 1 ball, 20 players, 3 referees, 45.5ms\n",
      "1: 384x640 22 players, 3 referees, 45.5ms\n",
      "2: 384x640 23 players, 3 referees, 45.5ms\n",
      "3: 384x640 1 ball, 23 players, 3 referees, 45.5ms\n",
      "4: 384x640 23 players, 3 referees, 45.5ms\n",
      "5: 384x640 1 ball, 23 players, 3 referees, 45.5ms\n",
      "6: 384x640 1 ball, 22 players, 3 referees, 45.5ms\n",
      "7: 384x640 19 players, 3 referees, 45.5ms\n",
      "8: 384x640 21 players, 3 referees, 45.5ms\n",
      "9: 384x640 22 players, 3 referees, 45.5ms\n",
      "10: 384x640 22 players, 3 referees, 45.5ms\n",
      "11: 384x640 23 players, 3 referees, 45.5ms\n",
      "12: 384x640 22 players, 3 referees, 45.5ms\n",
      "13: 384x640 21 players, 3 referees, 45.5ms\n",
      "14: 384x640 1 goalkeeper, 21 players, 4 referees, 45.5ms\n",
      "15: 384x640 1 goalkeeper, 22 players, 3 referees, 45.5ms\n",
      "16: 384x640 1 goalkeeper, 23 players, 3 referees, 45.5ms\n",
      "17: 384x640 20 players, 3 referees, 45.5ms\n",
      "18: 384x640 1 goalkeeper, 20 players, 3 referees, 45.5ms\n",
      "19: 384x640 1 goalkeeper, 23 players, 2 referees, 45.5ms\n",
      "Speed: 4.8ms preprocess, 45.5ms inference, 0.9ms postprocess per image at shape (1, 3, 384, 640)\n",
      "\n",
      "0: 384x640 1 goalkeeper, 21 players, 3 referees, 46.2ms\n",
      "1: 384x640 21 players, 3 referees, 46.2ms\n",
      "2: 384x640 1 goalkeeper, 22 players, 3 referees, 46.2ms\n",
      "3: 384x640 1 goalkeeper, 25 players, 3 referees, 46.2ms\n",
      "4: 384x640 1 goalkeeper, 22 players, 4 referees, 46.2ms\n",
      "5: 384x640 1 goalkeeper, 21 players, 3 referees, 46.2ms\n",
      "6: 384x640 1 goalkeeper, 23 players, 3 referees, 46.2ms\n",
      "7: 384x640 1 goalkeeper, 19 players, 3 referees, 46.2ms\n",
      "8: 384x640 1 goalkeeper, 19 players, 3 referees, 46.2ms\n",
      "9: 384x640 1 goalkeeper, 20 players, 3 referees, 46.2ms\n",
      "10: 384x640 1 ball, 1 goalkeeper, 19 players, 4 referees, 46.2ms\n",
      "11: 384x640 1 goalkeeper, 20 players, 3 referees, 46.2ms\n",
      "12: 384x640 1 ball, 1 goalkeeper, 20 players, 3 referees, 46.2ms\n",
      "13: 384x640 1 goalkeeper, 19 players, 3 referees, 46.2ms\n",
      "14: 384x640 1 ball, 1 goalkeeper, 18 players, 3 referees, 46.2ms\n",
      "15: 384x640 1 ball, 1 goalkeeper, 21 players, 4 referees, 46.2ms\n",
      "16: 384x640 1 ball, 1 goalkeeper, 21 players, 3 referees, 46.2ms\n",
      "17: 384x640 1 ball, 1 goalkeeper, 20 players, 3 referees, 46.2ms\n",
      "18: 384x640 20 players, 3 referees, 46.2ms\n",
      "19: 384x640 18 players, 3 referees, 46.2ms\n",
      "Speed: 4.7ms preprocess, 46.2ms inference, 0.8ms postprocess per image at shape (1, 3, 384, 640)\n",
      "\n",
      "0: 384x640 19 players, 3 referees, 45.0ms\n",
      "1: 384x640 20 players, 3 referees, 45.0ms\n",
      "2: 384x640 22 players, 3 referees, 45.0ms\n",
      "3: 384x640 21 players, 3 referees, 45.0ms\n",
      "4: 384x640 21 players, 3 referees, 45.0ms\n",
      "5: 384x640 1 ball, 24 players, 3 referees, 45.0ms\n",
      "6: 384x640 22 players, 3 referees, 45.0ms\n",
      "7: 384x640 1 ball, 1 goalkeeper, 24 players, 3 referees, 45.0ms\n",
      "8: 384x640 21 players, 3 referees, 45.0ms\n",
      "9: 384x640 20 players, 3 referees, 45.0ms\n",
      "10: 384x640 21 players, 3 referees, 45.0ms\n",
      "11: 384x640 21 players, 3 referees, 45.0ms\n",
      "12: 384x640 21 players, 3 referees, 45.0ms\n",
      "13: 384x640 21 players, 3 referees, 45.0ms\n",
      "14: 384x640 20 players, 4 referees, 45.0ms\n",
      "15: 384x640 24 players, 3 referees, 45.0ms\n",
      "16: 384x640 26 players, 3 referees, 45.0ms\n",
      "17: 384x640 20 players, 3 referees, 45.0ms\n",
      "18: 384x640 1 ball, 23 players, 3 referees, 45.0ms\n",
      "19: 384x640 22 players, 3 referees, 45.0ms\n",
      "Speed: 4.4ms preprocess, 45.0ms inference, 0.8ms postprocess per image at shape (1, 3, 384, 640)\n",
      "\n",
      "0: 384x640 21 players, 2 referees, 46.4ms\n",
      "1: 384x640 20 players, 3 referees, 46.4ms\n",
      "2: 384x640 20 players, 3 referees, 46.4ms\n",
      "3: 384x640 20 players, 3 referees, 46.4ms\n",
      "4: 384x640 22 players, 3 referees, 46.4ms\n",
      "5: 384x640 19 players, 3 referees, 46.4ms\n",
      "6: 384x640 21 players, 3 referees, 46.4ms\n",
      "7: 384x640 20 players, 3 referees, 46.4ms\n",
      "8: 384x640 21 players, 3 referees, 46.4ms\n",
      "9: 384x640 20 players, 3 referees, 46.4ms\n",
      "10: 384x640 23 players, 3 referees, 46.4ms\n",
      "11: 384x640 22 players, 3 referees, 46.4ms\n",
      "12: 384x640 19 players, 3 referees, 46.4ms\n",
      "13: 384x640 1 ball, 17 players, 3 referees, 46.4ms\n",
      "14: 384x640 18 players, 3 referees, 46.4ms\n",
      "15: 384x640 18 players, 3 referees, 46.4ms\n",
      "16: 384x640 21 players, 3 referees, 46.4ms\n",
      "17: 384x640 20 players, 3 referees, 46.4ms\n",
      "18: 384x640 20 players, 3 referees, 46.4ms\n",
      "19: 384x640 1 ball, 21 players, 3 referees, 46.4ms\n",
      "Speed: 4.9ms preprocess, 46.4ms inference, 1.3ms postprocess per image at shape (1, 3, 384, 640)\n",
      "\n",
      "0: 384x640 22 players, 3 referees, 50.4ms\n",
      "1: 384x640 1 ball, 21 players, 3 referees, 50.4ms\n",
      "2: 384x640 1 ball, 20 players, 3 referees, 50.4ms\n",
      "3: 384x640 1 ball, 22 players, 3 referees, 50.4ms\n",
      "4: 384x640 1 ball, 21 players, 3 referees, 50.4ms\n",
      "5: 384x640 1 ball, 22 players, 3 referees, 50.4ms\n",
      "6: 384x640 21 players, 3 referees, 50.4ms\n",
      "7: 384x640 1 ball, 20 players, 3 referees, 50.4ms\n",
      "8: 384x640 20 players, 3 referees, 50.4ms\n",
      "9: 384x640 19 players, 3 referees, 50.4ms\n",
      "10: 384x640 19 players, 3 referees, 50.4ms\n",
      "11: 384x640 20 players, 3 referees, 50.4ms\n",
      "12: 384x640 21 players, 3 referees, 50.4ms\n",
      "13: 384x640 1 ball, 22 players, 3 referees, 50.4ms\n",
      "14: 384x640 2 balls, 21 players, 3 referees, 50.4ms\n",
      "15: 384x640 1 ball, 20 players, 3 referees, 50.4ms\n",
      "16: 384x640 20 players, 3 referees, 50.4ms\n",
      "17: 384x640 20 players, 3 referees, 50.4ms\n",
      "18: 384x640 20 players, 3 referees, 50.4ms\n",
      "19: 384x640 21 players, 3 referees, 50.4ms\n",
      "Speed: 5.5ms preprocess, 50.4ms inference, 1.1ms postprocess per image at shape (1, 3, 384, 640)\n",
      "\n",
      "0: 384x640 20 players, 3 referees, 46.2ms\n",
      "1: 384x640 20 players, 3 referees, 46.2ms\n",
      "2: 384x640 20 players, 3 referees, 46.2ms\n",
      "3: 384x640 20 players, 3 referees, 46.2ms\n",
      "4: 384x640 1 ball, 21 players, 3 referees, 46.2ms\n",
      "5: 384x640 1 ball, 21 players, 3 referees, 46.2ms\n",
      "6: 384x640 21 players, 3 referees, 46.2ms\n",
      "7: 384x640 1 ball, 23 players, 3 referees, 46.2ms\n",
      "8: 384x640 1 ball, 21 players, 3 referees, 46.2ms\n",
      "9: 384x640 1 ball, 23 players, 3 referees, 46.2ms\n",
      "10: 384x640 1 ball, 23 players, 3 referees, 46.2ms\n",
      "11: 384x640 23 players, 3 referees, 46.2ms\n",
      "12: 384x640 1 ball, 24 players, 3 referees, 46.2ms\n",
      "13: 384x640 1 ball, 21 players, 3 referees, 46.2ms\n",
      "14: 384x640 22 players, 3 referees, 46.2ms\n",
      "15: 384x640 21 players, 3 referees, 46.2ms\n",
      "16: 384x640 1 ball, 21 players, 3 referees, 46.2ms\n",
      "17: 384x640 1 ball, 21 players, 3 referees, 46.2ms\n",
      "18: 384x640 2 balls, 20 players, 3 referees, 46.2ms\n",
      "19: 384x640 1 ball, 20 players, 4 referees, 46.2ms\n",
      "Speed: 4.9ms preprocess, 46.2ms inference, 0.9ms postprocess per image at shape (1, 3, 384, 640)\n",
      "\n",
      "0: 384x640 1 ball, 20 players, 4 referees, 46.0ms\n",
      "1: 384x640 2 balls, 20 players, 3 referees, 46.0ms\n",
      "2: 384x640 1 ball, 21 players, 3 referees, 46.0ms\n",
      "3: 384x640 2 balls, 21 players, 3 referees, 46.0ms\n",
      "4: 384x640 1 ball, 21 players, 2 referees, 46.0ms\n",
      "5: 384x640 21 players, 2 referees, 46.0ms\n",
      "6: 384x640 21 players, 3 referees, 46.0ms\n",
      "7: 384x640 20 players, 3 referees, 46.0ms\n",
      "8: 384x640 22 players, 3 referees, 46.0ms\n",
      "9: 384x640 22 players, 3 referees, 46.0ms\n",
      "10: 384x640 1 ball, 20 players, 2 referees, 46.0ms\n",
      "11: 384x640 2 balls, 21 players, 3 referees, 46.0ms\n",
      "12: 384x640 1 ball, 21 players, 3 referees, 46.0ms\n",
      "13: 384x640 1 ball, 21 players, 2 referees, 46.0ms\n",
      "14: 384x640 2 balls, 20 players, 3 referees, 46.0ms\n",
      "15: 384x640 2 balls, 20 players, 3 referees, 46.0ms\n",
      "16: 384x640 21 players, 4 referees, 46.0ms\n",
      "17: 384x640 1 ball, 22 players, 5 referees, 46.0ms\n",
      "18: 384x640 2 balls, 21 players, 3 referees, 46.0ms\n",
      "19: 384x640 1 ball, 21 players, 3 referees, 46.0ms\n",
      "Speed: 4.6ms preprocess, 46.0ms inference, 1.0ms postprocess per image at shape (1, 3, 384, 640)\n",
      "\n",
      "0: 384x640 1 ball, 21 players, 3 referees, 50.4ms\n",
      "1: 384x640 1 ball, 21 players, 3 referees, 50.4ms\n",
      "2: 384x640 1 ball, 22 players, 3 referees, 50.4ms\n",
      "3: 384x640 1 ball, 21 players, 2 referees, 50.4ms\n",
      "4: 384x640 1 ball, 21 players, 3 referees, 50.4ms\n",
      "5: 384x640 1 ball, 21 players, 4 referees, 50.4ms\n",
      "6: 384x640 1 ball, 20 players, 3 referees, 50.4ms\n",
      "7: 384x640 1 ball, 20 players, 3 referees, 50.4ms\n",
      "8: 384x640 1 ball, 21 players, 3 referees, 50.4ms\n",
      "9: 384x640 1 ball, 21 players, 3 referees, 50.4ms\n",
      "10: 384x640 21 players, 4 referees, 50.4ms\n",
      "11: 384x640 1 ball, 21 players, 2 referees, 50.4ms\n",
      "12: 384x640 1 ball, 20 players, 3 referees, 50.4ms\n",
      "13: 384x640 20 players, 3 referees, 50.4ms\n",
      "14: 384x640 1 ball, 20 players, 3 referees, 50.4ms\n",
      "15: 384x640 1 ball, 20 players, 3 referees, 50.4ms\n",
      "16: 384x640 1 ball, 21 players, 3 referees, 50.4ms\n",
      "17: 384x640 22 players, 3 referees, 50.4ms\n",
      "18: 384x640 20 players, 3 referees, 50.4ms\n",
      "19: 384x640 21 players, 3 referees, 50.4ms\n",
      "Speed: 4.5ms preprocess, 50.4ms inference, 1.0ms postprocess per image at shape (1, 3, 384, 640)\n",
      "\n",
      "0: 384x640 21 players, 3 referees, 53.7ms\n",
      "1: 384x640 21 players, 3 referees, 53.7ms\n",
      "2: 384x640 20 players, 4 referees, 53.7ms\n",
      "3: 384x640 20 players, 4 referees, 53.7ms\n",
      "4: 384x640 20 players, 4 referees, 53.7ms\n",
      "5: 384x640 20 players, 4 referees, 53.7ms\n",
      "6: 384x640 20 players, 3 referees, 53.7ms\n",
      "7: 384x640 19 players, 3 referees, 53.7ms\n",
      "8: 384x640 20 players, 2 referees, 53.7ms\n",
      "9: 384x640 20 players, 3 referees, 53.7ms\n",
      "10: 384x640 20 players, 3 referees, 53.7ms\n",
      "11: 384x640 21 players, 4 referees, 53.7ms\n",
      "12: 384x640 23 players, 3 referees, 53.7ms\n",
      "13: 384x640 1 ball, 1 goalkeeper, 22 players, 3 referees, 53.7ms\n",
      "14: 384x640 1 goalkeeper, 21 players, 3 referees, 53.7ms\n",
      "15: 384x640 1 ball, 1 goalkeeper, 20 players, 3 referees, 53.7ms\n",
      "16: 384x640 2 balls, 1 goalkeeper, 22 players, 3 referees, 53.7ms\n",
      "17: 384x640 1 ball, 1 goalkeeper, 22 players, 3 referees, 53.7ms\n",
      "18: 384x640 1 ball, 1 goalkeeper, 20 players, 2 referees, 53.7ms\n",
      "19: 384x640 1 goalkeeper, 20 players, 3 referees, 53.7ms\n",
      "Speed: 4.5ms preprocess, 53.7ms inference, 1.0ms postprocess per image at shape (1, 3, 384, 640)\n",
      "\n",
      "0: 384x640 1 goalkeeper, 21 players, 3 referees, 53.3ms\n",
      "1: 384x640 1 goalkeeper, 21 players, 3 referees, 53.3ms\n",
      "2: 384x640 1 goalkeeper, 23 players, 3 referees, 53.3ms\n",
      "3: 384x640 1 ball, 1 goalkeeper, 20 players, 3 referees, 53.3ms\n",
      "4: 384x640 1 ball, 1 goalkeeper, 21 players, 2 referees, 53.3ms\n",
      "5: 384x640 1 ball, 1 goalkeeper, 20 players, 3 referees, 53.3ms\n",
      "6: 384x640 1 ball, 1 goalkeeper, 18 players, 2 referees, 53.3ms\n",
      "7: 384x640 1 ball, 1 goalkeeper, 20 players, 2 referees, 53.3ms\n",
      "8: 384x640 1 goalkeeper, 19 players, 3 referees, 53.3ms\n",
      "9: 384x640 1 goalkeeper, 22 players, 3 referees, 53.3ms\n",
      "10: 384x640 1 goalkeeper, 23 players, 4 referees, 53.3ms\n",
      "11: 384x640 1 ball, 1 goalkeeper, 22 players, 4 referees, 53.3ms\n",
      "12: 384x640 2 balls, 1 goalkeeper, 23 players, 4 referees, 53.3ms\n",
      "13: 384x640 1 goalkeeper, 22 players, 3 referees, 53.3ms\n",
      "14: 384x640 1 ball, 1 goalkeeper, 20 players, 3 referees, 53.3ms\n",
      "15: 384x640 1 goalkeeper, 22 players, 3 referees, 53.3ms\n",
      "16: 384x640 1 goalkeeper, 20 players, 3 referees, 53.3ms\n",
      "17: 384x640 1 goalkeeper, 20 players, 3 referees, 53.3ms\n",
      "18: 384x640 1 goalkeeper, 20 players, 3 referees, 53.3ms\n",
      "19: 384x640 1 goalkeeper, 20 players, 3 referees, 53.3ms\n",
      "Speed: 5.9ms preprocess, 53.3ms inference, 0.9ms postprocess per image at shape (1, 3, 384, 640)\n",
      "\n",
      "0: 384x640 1 goalkeeper, 20 players, 3 referees, 59.6ms\n",
      "1: 384x640 1 goalkeeper, 21 players, 3 referees, 59.6ms\n",
      "2: 384x640 1 goalkeeper, 21 players, 3 referees, 59.6ms\n",
      "3: 384x640 1 goalkeeper, 22 players, 3 referees, 59.6ms\n",
      "4: 384x640 1 goalkeeper, 21 players, 3 referees, 59.6ms\n",
      "5: 384x640 1 goalkeeper, 21 players, 3 referees, 59.6ms\n",
      "6: 384x640 21 players, 3 referees, 59.6ms\n",
      "7: 384x640 1 goalkeeper, 22 players, 3 referees, 59.6ms\n",
      "8: 384x640 1 goalkeeper, 20 players, 3 referees, 59.6ms\n",
      "9: 384x640 1 goalkeeper, 20 players, 3 referees, 59.6ms\n",
      "10: 384x640 1 goalkeeper, 21 players, 3 referees, 59.6ms\n",
      "11: 384x640 1 ball, 21 players, 3 referees, 59.6ms\n",
      "12: 384x640 1 ball, 1 goalkeeper, 21 players, 3 referees, 59.6ms\n",
      "13: 384x640 1 ball, 1 goalkeeper, 21 players, 3 referees, 59.6ms\n",
      "14: 384x640 1 goalkeeper, 22 players, 3 referees, 59.6ms\n",
      "15: 384x640 1 ball, 1 goalkeeper, 21 players, 4 referees, 59.6ms\n",
      "16: 384x640 1 ball, 1 goalkeeper, 24 players, 3 referees, 59.6ms\n",
      "17: 384x640 1 ball, 1 goalkeeper, 22 players, 3 referees, 59.6ms\n",
      "18: 384x640 1 goalkeeper, 23 players, 3 referees, 59.6ms\n",
      "19: 384x640 1 goalkeeper, 20 players, 3 referees, 59.6ms\n",
      "Speed: 4.4ms preprocess, 59.6ms inference, 1.4ms postprocess per image at shape (1, 3, 384, 640)\n",
      "\n",
      "0: 384x640 1 goalkeeper, 20 players, 2 referees, 63.8ms\n",
      "1: 384x640 1 goalkeeper, 21 players, 2 referees, 63.8ms\n",
      "2: 384x640 1 goalkeeper, 21 players, 3 referees, 63.8ms\n",
      "3: 384x640 1 goalkeeper, 21 players, 3 referees, 63.8ms\n",
      "4: 384x640 1 ball, 1 goalkeeper, 21 players, 3 referees, 63.8ms\n",
      "5: 384x640 1 ball, 1 goalkeeper, 22 players, 3 referees, 63.8ms\n",
      "6: 384x640 1 goalkeeper, 23 players, 3 referees, 63.8ms\n",
      "7: 384x640 21 players, 3 referees, 63.8ms\n",
      "8: 384x640 23 players, 3 referees, 63.8ms\n",
      "9: 384x640 1 ball, 22 players, 3 referees, 63.8ms\n",
      "10: 384x640 20 players, 4 referees, 63.8ms\n",
      "11: 384x640 23 players, 4 referees, 63.8ms\n",
      "12: 384x640 22 players, 3 referees, 63.8ms\n",
      "13: 384x640 1 goalkeeper, 21 players, 4 referees, 63.8ms\n",
      "14: 384x640 1 goalkeeper, 21 players, 4 referees, 63.8ms\n",
      "15: 384x640 22 players, 3 referees, 63.8ms\n",
      "16: 384x640 20 players, 3 referees, 63.8ms\n",
      "17: 384x640 1 goalkeeper, 21 players, 3 referees, 63.8ms\n",
      "18: 384x640 21 players, 3 referees, 63.8ms\n",
      "19: 384x640 1 goalkeeper, 21 players, 3 referees, 63.8ms\n",
      "Speed: 7.0ms preprocess, 63.8ms inference, 1.4ms postprocess per image at shape (1, 3, 384, 640)\n",
      "\n",
      "0: 384x640 1 goalkeeper, 21 players, 3 referees, 55.4ms\n",
      "1: 384x640 1 goalkeeper, 20 players, 3 referees, 55.4ms\n",
      "2: 384x640 1 goalkeeper, 21 players, 3 referees, 55.4ms\n",
      "3: 384x640 1 goalkeeper, 22 players, 3 referees, 55.4ms\n",
      "4: 384x640 1 goalkeeper, 20 players, 2 referees, 55.4ms\n",
      "5: 384x640 1 goalkeeper, 21 players, 2 referees, 55.4ms\n",
      "6: 384x640 1 goalkeeper, 20 players, 1 referee, 55.4ms\n",
      "7: 384x640 2 goalkeepers, 21 players, 2 referees, 55.4ms\n",
      "8: 384x640 1 goalkeeper, 20 players, 3 referees, 55.4ms\n",
      "9: 384x640 1 goalkeeper, 20 players, 3 referees, 55.4ms\n",
      "10: 384x640 1 goalkeeper, 20 players, 3 referees, 55.4ms\n",
      "11: 384x640 1 goalkeeper, 20 players, 3 referees, 55.4ms\n",
      "12: 384x640 1 goalkeeper, 20 players, 3 referees, 55.4ms\n",
      "13: 384x640 1 goalkeeper, 20 players, 3 referees, 55.4ms\n",
      "14: 384x640 1 goalkeeper, 20 players, 3 referees, 55.4ms\n",
      "15: 384x640 1 goalkeeper, 20 players, 4 referees, 55.4ms\n",
      "16: 384x640 1 goalkeeper, 20 players, 4 referees, 55.4ms\n",
      "17: 384x640 1 goalkeeper, 21 players, 3 referees, 55.4ms\n",
      "18: 384x640 1 goalkeeper, 20 players, 3 referees, 55.4ms\n",
      "19: 384x640 2 goalkeepers, 20 players, 3 referees, 55.4ms\n",
      "Speed: 5.5ms preprocess, 55.4ms inference, 0.7ms postprocess per image at shape (1, 3, 384, 640)\n",
      "\n",
      "0: 384x640 1 ball, 1 goalkeeper, 20 players, 3 referees, 53.7ms\n",
      "1: 384x640 1 goalkeeper, 20 players, 3 referees, 53.7ms\n",
      "2: 384x640 1 ball, 1 goalkeeper, 20 players, 3 referees, 53.7ms\n",
      "3: 384x640 1 goalkeeper, 21 players, 3 referees, 53.7ms\n",
      "4: 384x640 1 goalkeeper, 20 players, 3 referees, 53.7ms\n",
      "5: 384x640 1 goalkeeper, 20 players, 3 referees, 53.7ms\n",
      "6: 384x640 1 goalkeeper, 20 players, 3 referees, 53.7ms\n",
      "7: 384x640 1 goalkeeper, 21 players, 3 referees, 53.7ms\n",
      "8: 384x640 1 goalkeeper, 21 players, 3 referees, 53.7ms\n",
      "9: 384x640 1 ball, 1 goalkeeper, 21 players, 3 referees, 53.7ms\n",
      "10: 384x640 1 goalkeeper, 20 players, 2 referees, 53.7ms\n",
      "11: 384x640 1 goalkeeper, 20 players, 2 referees, 53.7ms\n",
      "12: 384x640 1 ball, 2 goalkeepers, 20 players, 2 referees, 53.7ms\n",
      "13: 384x640 2 goalkeepers, 21 players, 2 referees, 53.7ms\n",
      "14: 384x640 2 balls, 2 goalkeepers, 20 players, 3 referees, 53.7ms\n",
      "15: 384x640 1 ball, 2 goalkeepers, 20 players, 3 referees, 53.7ms\n",
      "16: 384x640 1 ball, 2 goalkeepers, 19 players, 3 referees, 53.7ms\n",
      "17: 384x640 2 goalkeepers, 19 players, 3 referees, 53.7ms\n",
      "18: 384x640 2 goalkeepers, 19 players, 3 referees, 53.7ms\n",
      "19: 384x640 2 goalkeepers, 19 players, 3 referees, 53.7ms\n",
      "Speed: 6.5ms preprocess, 53.7ms inference, 0.9ms postprocess per image at shape (1, 3, 384, 640)\n",
      "\n",
      "0: 384x640 2 goalkeepers, 19 players, 3 referees, 51.9ms\n",
      "1: 384x640 2 goalkeepers, 20 players, 3 referees, 51.9ms\n",
      "2: 384x640 2 goalkeepers, 21 players, 3 referees, 51.9ms\n",
      "3: 384x640 2 goalkeepers, 21 players, 3 referees, 51.9ms\n",
      "4: 384x640 2 goalkeepers, 20 players, 3 referees, 51.9ms\n",
      "5: 384x640 2 goalkeepers, 19 players, 3 referees, 51.9ms\n",
      "6: 384x640 2 goalkeepers, 20 players, 2 referees, 51.9ms\n",
      "7: 384x640 1 goalkeeper, 22 players, 3 referees, 51.9ms\n",
      "8: 384x640 2 goalkeepers, 22 players, 3 referees, 51.9ms\n",
      "9: 384x640 2 goalkeepers, 22 players, 2 referees, 51.9ms\n",
      "10: 384x640 2 goalkeepers, 22 players, 4 referees, 51.9ms\n",
      "11: 384x640 2 goalkeepers, 20 players, 2 referees, 51.9ms\n",
      "12: 384x640 2 goalkeepers, 21 players, 3 referees, 51.9ms\n",
      "13: 384x640 2 goalkeepers, 19 players, 3 referees, 51.9ms\n",
      "14: 384x640 2 goalkeepers, 19 players, 3 referees, 51.9ms\n",
      "15: 384x640 2 goalkeepers, 19 players, 3 referees, 51.9ms\n",
      "16: 384x640 2 goalkeepers, 19 players, 2 referees, 51.9ms\n",
      "17: 384x640 2 goalkeepers, 19 players, 2 referees, 51.9ms\n",
      "18: 384x640 2 goalkeepers, 19 players, 3 referees, 51.9ms\n",
      "19: 384x640 2 goalkeepers, 19 players, 3 referees, 51.9ms\n",
      "Speed: 4.9ms preprocess, 51.9ms inference, 1.1ms postprocess per image at shape (1, 3, 384, 640)\n",
      "\n",
      "0: 384x640 2 goalkeepers, 19 players, 3 referees, 49.8ms\n",
      "1: 384x640 1 goalkeeper, 19 players, 2 referees, 49.8ms\n",
      "2: 384x640 1 goalkeeper, 19 players, 2 referees, 49.8ms\n",
      "3: 384x640 1 goalkeeper, 20 players, 3 referees, 49.8ms\n",
      "4: 384x640 1 goalkeeper, 19 players, 3 referees, 49.8ms\n",
      "5: 384x640 1 goalkeeper, 22 players, 3 referees, 49.8ms\n",
      "6: 384x640 1 goalkeeper, 20 players, 3 referees, 49.8ms\n",
      "7: 384x640 1 goalkeeper, 21 players, 3 referees, 49.8ms\n",
      "8: 384x640 1 goalkeeper, 21 players, 3 referees, 49.8ms\n",
      "9: 384x640 1 goalkeeper, 20 players, 4 referees, 49.8ms\n",
      "10: 384x640 1 goalkeeper, 21 players, 4 referees, 49.8ms\n",
      "11: 384x640 1 goalkeeper, 21 players, 4 referees, 49.8ms\n",
      "12: 384x640 1 goalkeeper, 20 players, 3 referees, 49.8ms\n",
      "13: 384x640 1 goalkeeper, 20 players, 3 referees, 49.8ms\n",
      "14: 384x640 1 goalkeeper, 21 players, 3 referees, 49.8ms\n",
      "15: 384x640 1 goalkeeper, 20 players, 3 referees, 49.8ms\n",
      "16: 384x640 1 goalkeeper, 22 players, 3 referees, 49.8ms\n",
      "17: 384x640 1 goalkeeper, 19 players, 3 referees, 49.8ms\n",
      "18: 384x640 1 goalkeeper, 19 players, 3 referees, 49.8ms\n",
      "19: 384x640 1 goalkeeper, 20 players, 3 referees, 49.8ms\n",
      "Speed: 5.1ms preprocess, 49.8ms inference, 1.2ms postprocess per image at shape (1, 3, 384, 640)\n",
      "\n",
      "0: 384x640 1 goalkeeper, 21 players, 3 referees, 52.7ms\n",
      "1: 384x640 1 goalkeeper, 20 players, 3 referees, 52.7ms\n",
      "2: 384x640 1 goalkeeper, 20 players, 3 referees, 52.7ms\n",
      "3: 384x640 1 goalkeeper, 21 players, 3 referees, 52.7ms\n",
      "4: 384x640 1 goalkeeper, 20 players, 3 referees, 52.7ms\n",
      "5: 384x640 1 goalkeeper, 20 players, 3 referees, 52.7ms\n",
      "6: 384x640 1 goalkeeper, 21 players, 3 referees, 52.7ms\n",
      "7: 384x640 1 goalkeeper, 22 players, 3 referees, 52.7ms\n",
      "8: 384x640 1 goalkeeper, 22 players, 3 referees, 52.7ms\n",
      "9: 384x640 1 goalkeeper, 21 players, 3 referees, 52.7ms\n",
      "10: 384x640 1 goalkeeper, 20 players, 3 referees, 52.7ms\n",
      "11: 384x640 1 goalkeeper, 21 players, 3 referees, 52.7ms\n",
      "12: 384x640 1 goalkeeper, 21 players, 3 referees, 52.7ms\n",
      "13: 384x640 1 goalkeeper, 20 players, 3 referees, 52.7ms\n",
      "14: 384x640 1 goalkeeper, 21 players, 4 referees, 52.7ms\n",
      "15: 384x640 1 goalkeeper, 21 players, 3 referees, 52.7ms\n",
      "16: 384x640 1 goalkeeper, 21 players, 4 referees, 52.7ms\n",
      "17: 384x640 1 goalkeeper, 19 players, 3 referees, 52.7ms\n",
      "18: 384x640 1 goalkeeper, 20 players, 3 referees, 52.7ms\n",
      "19: 384x640 1 goalkeeper, 20 players, 4 referees, 52.7ms\n",
      "Speed: 5.2ms preprocess, 52.7ms inference, 1.0ms postprocess per image at shape (1, 3, 384, 640)\n",
      "\n",
      "0: 384x640 1 goalkeeper, 19 players, 3 referees, 49.9ms\n",
      "1: 384x640 1 goalkeeper, 19 players, 4 referees, 49.9ms\n",
      "2: 384x640 1 goalkeeper, 20 players, 3 referees, 49.9ms\n",
      "3: 384x640 1 goalkeeper, 21 players, 3 referees, 49.9ms\n",
      "4: 384x640 1 goalkeeper, 21 players, 3 referees, 49.9ms\n",
      "5: 384x640 1 goalkeeper, 21 players, 3 referees, 49.9ms\n",
      "6: 384x640 1 goalkeeper, 22 players, 3 referees, 49.9ms\n",
      "7: 384x640 1 goalkeeper, 20 players, 3 referees, 49.9ms\n",
      "8: 384x640 1 goalkeeper, 21 players, 3 referees, 49.9ms\n",
      "9: 384x640 1 goalkeeper, 20 players, 3 referees, 49.9ms\n",
      "10: 384x640 1 goalkeeper, 20 players, 3 referees, 49.9ms\n",
      "11: 384x640 1 goalkeeper, 20 players, 3 referees, 49.9ms\n",
      "12: 384x640 1 goalkeeper, 20 players, 3 referees, 49.9ms\n",
      "13: 384x640 1 goalkeeper, 19 players, 3 referees, 49.9ms\n",
      "14: 384x640 1 goalkeeper, 20 players, 4 referees, 49.9ms\n",
      "15: 384x640 1 goalkeeper, 20 players, 4 referees, 49.9ms\n",
      "16: 384x640 1 goalkeeper, 19 players, 3 referees, 49.9ms\n",
      "17: 384x640 1 goalkeeper, 19 players, 3 referees, 49.9ms\n",
      "18: 384x640 1 goalkeeper, 19 players, 3 referees, 49.9ms\n",
      "19: 384x640 1 goalkeeper, 19 players, 3 referees, 49.9ms\n",
      "Speed: 5.8ms preprocess, 49.9ms inference, 1.0ms postprocess per image at shape (1, 3, 384, 640)\n",
      "\n",
      "0: 384x640 1 ball, 1 goalkeeper, 23 players, 3 referees, 50.3ms\n",
      "1: 384x640 1 ball, 1 goalkeeper, 24 players, 2 referees, 50.3ms\n",
      "2: 384x640 1 goalkeeper, 23 players, 3 referees, 50.3ms\n",
      "3: 384x640 1 goalkeeper, 21 players, 3 referees, 50.3ms\n",
      "4: 384x640 1 goalkeeper, 21 players, 3 referees, 50.3ms\n",
      "5: 384x640 1 goalkeeper, 23 players, 3 referees, 50.3ms\n",
      "6: 384x640 1 goalkeeper, 22 players, 3 referees, 50.3ms\n",
      "7: 384x640 23 players, 3 referees, 50.3ms\n",
      "8: 384x640 1 goalkeeper, 21 players, 3 referees, 50.3ms\n",
      "9: 384x640 1 goalkeeper, 21 players, 3 referees, 50.3ms\n",
      "10: 384x640 1 goalkeeper, 23 players, 4 referees, 50.3ms\n",
      "11: 384x640 1 goalkeeper, 21 players, 3 referees, 50.3ms\n",
      "12: 384x640 1 ball, 1 goalkeeper, 23 players, 3 referees, 50.3ms\n",
      "13: 384x640 1 ball, 1 goalkeeper, 24 players, 3 referees, 50.3ms\n",
      "14: 384x640 1 ball, 1 goalkeeper, 22 players, 3 referees, 50.3ms\n",
      "15: 384x640 1 ball, 1 goalkeeper, 24 players, 2 referees, 50.3ms\n",
      "16: 384x640 1 ball, 1 goalkeeper, 21 players, 3 referees, 50.3ms\n",
      "17: 384x640 1 ball, 1 goalkeeper, 24 players, 3 referees, 50.3ms\n",
      "18: 384x640 1 ball, 1 goalkeeper, 23 players, 3 referees, 50.3ms\n",
      "19: 384x640 1 ball, 1 goalkeeper, 23 players, 2 referees, 50.3ms\n",
      "Speed: 5.0ms preprocess, 50.3ms inference, 1.1ms postprocess per image at shape (1, 3, 384, 640)\n",
      "\n",
      "0: 384x640 1 ball, 1 goalkeeper, 21 players, 3 referees, 51.9ms\n",
      "1: 384x640 1 ball, 1 goalkeeper, 21 players, 3 referees, 51.9ms\n",
      "2: 384x640 1 goalkeeper, 20 players, 2 referees, 51.9ms\n",
      "3: 384x640 1 goalkeeper, 19 players, 3 referees, 51.9ms\n",
      "4: 384x640 1 ball, 1 goalkeeper, 20 players, 3 referees, 51.9ms\n",
      "5: 384x640 1 goalkeeper, 20 players, 3 referees, 51.9ms\n",
      "6: 384x640 1 goalkeeper, 19 players, 3 referees, 51.9ms\n",
      "7: 384x640 1 goalkeeper, 19 players, 3 referees, 51.9ms\n",
      "8: 384x640 1 goalkeeper, 21 players, 3 referees, 51.9ms\n",
      "9: 384x640 1 goalkeeper, 20 players, 3 referees, 51.9ms\n",
      "10: 384x640 1 goalkeeper, 21 players, 3 referees, 51.9ms\n",
      "11: 384x640 1 goalkeeper, 21 players, 3 referees, 51.9ms\n",
      "12: 384x640 1 goalkeeper, 20 players, 3 referees, 51.9ms\n",
      "13: 384x640 1 goalkeeper, 21 players, 3 referees, 51.9ms\n",
      "14: 384x640 1 goalkeeper, 21 players, 2 referees, 51.9ms\n",
      "15: 384x640 1 ball, 1 goalkeeper, 21 players, 3 referees, 51.9ms\n",
      "16: 384x640 1 ball, 1 goalkeeper, 22 players, 3 referees, 51.9ms\n",
      "17: 384x640 1 ball, 1 goalkeeper, 20 players, 4 referees, 51.9ms\n",
      "18: 384x640 1 ball, 1 goalkeeper, 19 players, 3 referees, 51.9ms\n",
      "19: 384x640 1 ball, 1 goalkeeper, 19 players, 3 referees, 51.9ms\n",
      "Speed: 4.8ms preprocess, 51.9ms inference, 1.2ms postprocess per image at shape (1, 3, 384, 640)\n",
      "\n",
      "0: 384x640 1 goalkeeper, 21 players, 3 referees, 54.9ms\n",
      "1: 384x640 1 ball, 1 goalkeeper, 19 players, 3 referees, 54.9ms\n",
      "2: 384x640 1 goalkeeper, 19 players, 3 referees, 54.9ms\n",
      "3: 384x640 1 goalkeeper, 20 players, 3 referees, 54.9ms\n",
      "4: 384x640 1 goalkeeper, 22 players, 3 referees, 54.9ms\n",
      "5: 384x640 1 goalkeeper, 22 players, 3 referees, 54.9ms\n",
      "6: 384x640 1 goalkeeper, 24 players, 3 referees, 54.9ms\n",
      "7: 384x640 23 players, 4 referees, 54.9ms\n",
      "8: 384x640 23 players, 3 referees, 54.9ms\n",
      "9: 384x640 1 goalkeeper, 23 players, 3 referees, 54.9ms\n",
      "10: 384x640 1 goalkeeper, 21 players, 3 referees, 54.9ms\n",
      "11: 384x640 1 goalkeeper, 20 players, 3 referees, 54.9ms\n",
      "12: 384x640 1 goalkeeper, 21 players, 3 referees, 54.9ms\n",
      "13: 384x640 1 goalkeeper, 21 players, 3 referees, 54.9ms\n",
      "14: 384x640 1 goalkeeper, 22 players, 3 referees, 54.9ms\n",
      "15: 384x640 1 goalkeeper, 24 players, 3 referees, 54.9ms\n",
      "16: 384x640 1 goalkeeper, 23 players, 3 referees, 54.9ms\n",
      "17: 384x640 1 goalkeeper, 21 players, 3 referees, 54.9ms\n",
      "18: 384x640 1 goalkeeper, 22 players, 3 referees, 54.9ms\n",
      "19: 384x640 1 goalkeeper, 21 players, 3 referees, 54.9ms\n",
      "Speed: 5.6ms preprocess, 54.9ms inference, 1.3ms postprocess per image at shape (1, 3, 384, 640)\n",
      "\n",
      "0: 384x640 1 goalkeeper, 22 players, 3 referees, 71.0ms\n",
      "1: 384x640 1 goalkeeper, 22 players, 3 referees, 71.0ms\n",
      "2: 384x640 1 goalkeeper, 22 players, 3 referees, 71.0ms\n",
      "3: 384x640 1 goalkeeper, 25 players, 3 referees, 71.0ms\n",
      "4: 384x640 1 goalkeeper, 25 players, 4 referees, 71.0ms\n",
      "5: 384x640 1 goalkeeper, 24 players, 5 referees, 71.0ms\n",
      "6: 384x640 1 goalkeeper, 23 players, 5 referees, 71.0ms\n",
      "7: 384x640 1 goalkeeper, 21 players, 5 referees, 71.0ms\n",
      "8: 384x640 1 goalkeeper, 24 players, 4 referees, 71.0ms\n",
      "9: 384x640 1 goalkeeper, 23 players, 4 referees, 71.0ms\n",
      "Speed: 7.0ms preprocess, 71.0ms inference, 1.6ms postprocess per image at shape (1, 3, 384, 640)\n"
     ]
    }
   ],
   "source": [
    "batch_size = 20\n",
    "detections = []\n",
    "for i in range(0, len(frames), batch_size):\n",
    "    detection_batch = model.predict(frames[i:i+batch_size], conf=0.1)\n",
    "    detections += detection_batch"
   ]
  },
  {
   "cell_type": "code",
   "execution_count": 21,
   "metadata": {},
   "outputs": [
    {
     "data": {
      "text/plain": [
       "750"
      ]
     },
     "execution_count": 21,
     "metadata": {},
     "output_type": "execute_result"
    }
   ],
   "source": [
    "len(detections)"
   ]
  },
  {
   "cell_type": "code",
   "execution_count": 23,
   "metadata": {},
   "outputs": [
    {
     "data": {
      "text/plain": [
       "ultralytics.engine.results.Results"
      ]
     },
     "execution_count": 23,
     "metadata": {},
     "output_type": "execute_result"
    }
   ],
   "source": [
    "type(detections[0])"
   ]
  },
  {
   "cell_type": "code",
   "execution_count": 81,
   "metadata": {},
   "outputs": [],
   "source": [
    "tracks = {\n",
    "    \"players\":[],\n",
    "    \"referees\":[],\n",
    "    \"ball\":[]\n",
    "}"
   ]
  },
  {
   "cell_type": "code",
   "execution_count": 33,
   "metadata": {},
   "outputs": [],
   "source": [
    "tracker = sv.ByteTrack()"
   ]
  },
  {
   "cell_type": "code",
   "execution_count": null,
   "metadata": {},
   "outputs": [],
   "source": [
    "for frame_num, detection in enumerate(detections):\n",
    "    cls_names = detection.names\n",
    "    cls_names_inv = {v:k for k, v in cls_names.items()}\n",
    "\n",
    "    detection_supervision = sv.Detections.from_ultralytics(detection)\n",
    "    \n",
    "    for obj_idx, class_id in enumerate(detection_supervision.class_id):\n",
    "        if cls_names[class_id] == \"goalkeeper\":\n",
    "            detection_supervision.class_id[obj_idx] = cls_names_inv[\"player\"]"
   ]
  },
  {
   "cell_type": "code",
   "execution_count": 28,
   "metadata": {},
   "outputs": [],
   "source": [
    "dd = sv.Detections.from_ultralytics(detections[0])"
   ]
  },
  {
   "cell_type": "code",
   "execution_count": 29,
   "metadata": {},
   "outputs": [
    {
     "data": {
      "text/plain": [
       "supervision.detection.core.Detections"
      ]
     },
     "execution_count": 29,
     "metadata": {},
     "output_type": "execute_result"
    }
   ],
   "source": [
    "type(dd)"
   ]
  },
  {
   "cell_type": "code",
   "execution_count": 32,
   "metadata": {},
   "outputs": [
    {
     "data": {
      "text/plain": [
       "array([2, 2, 2, 2, 2, 2, 3, 2, 2, 2, 2, 2, 2, 2, 2, 2, 2, 3, 2, 2, 1, 3, 0, 2, 2, 3])"
      ]
     },
     "execution_count": 32,
     "metadata": {},
     "output_type": "execute_result"
    }
   ],
   "source": [
    "dd.class_id"
   ]
  },
  {
   "cell_type": "code",
   "execution_count": 35,
   "metadata": {},
   "outputs": [],
   "source": [
    "dd_with_track = tracker.update_with_detections(dd)"
   ]
  },
  {
   "cell_type": "code",
   "execution_count": 36,
   "metadata": {},
   "outputs": [
    {
     "data": {
      "text/plain": [
       "supervision.detection.core.Detections"
      ]
     },
     "execution_count": 36,
     "metadata": {},
     "output_type": "execute_result"
    }
   ],
   "source": [
    "type(dd_with_track)"
   ]
  },
  {
   "cell_type": "code",
   "execution_count": 39,
   "metadata": {},
   "outputs": [
    {
     "data": {
      "text/plain": [
       "array([ 1,  2,  3,  4,  5,  6,  7,  8,  9, 10, 11, 12, 13, 14, 15, 16, 17, 18, 19, 20, 21, 22, -1, -1, -1, -1])"
      ]
     },
     "execution_count": 39,
     "metadata": {},
     "output_type": "execute_result"
    }
   ],
   "source": [
    "dd.tracker_id"
   ]
  },
  {
   "cell_type": "code",
   "execution_count": 38,
   "metadata": {},
   "outputs": [
    {
     "data": {
      "text/plain": [
       "array([ 1,  2,  3,  4,  5,  6,  7,  8,  9, 10, 11, 12, 13, 14, 15, 16, 17, 18, 19, 20, 21, 22])"
      ]
     },
     "execution_count": 38,
     "metadata": {},
     "output_type": "execute_result"
    }
   ],
   "source": [
    "dd_with_track.tracker_id"
   ]
  },
  {
   "cell_type": "markdown",
   "metadata": {},
   "source": [
    "One object"
   ]
  },
  {
   "cell_type": "code",
   "execution_count": 42,
   "metadata": {},
   "outputs": [
    {
     "data": {
      "text/plain": [
       "Detections(xyxy=array([[     586.47,      589.19,      630.59,      673.91]], dtype=float32), mask=None, confidence=array([    0.91911], dtype=float32), class_id=array([2]), tracker_id=array([1]), data={'class_name': array(['player'], dtype='<U10')}, metadata={})"
      ]
     },
     "execution_count": 42,
     "metadata": {},
     "output_type": "execute_result"
    }
   ],
   "source": [
    "dd_with_track[0]"
   ]
  },
  {
   "cell_type": "code",
   "execution_count": 83,
   "metadata": {},
   "outputs": [
    {
     "data": {
      "text/plain": [
       "[586.4676513671875, 589.185302734375, 630.5856323242188, 673.9056396484375]"
      ]
     },
     "execution_count": 83,
     "metadata": {},
     "output_type": "execute_result"
    }
   ],
   "source": [
    "dd_with_track[0].xyxy.tolist()[0]"
   ]
  },
  {
   "cell_type": "code",
   "execution_count": 73,
   "metadata": {},
   "outputs": [
    {
     "data": {
      "text/plain": [
       "array([2])"
      ]
     },
     "execution_count": 73,
     "metadata": {},
     "output_type": "execute_result"
    }
   ],
   "source": [
    "dd_with_track[0].class_id"
   ]
  },
  {
   "cell_type": "code",
   "execution_count": 74,
   "metadata": {},
   "outputs": [
    {
     "data": {
      "text/plain": [
       "array([1])"
      ]
     },
     "execution_count": 74,
     "metadata": {},
     "output_type": "execute_result"
    }
   ],
   "source": [
    "dd_with_track[0].tracker_id"
   ]
  },
  {
   "cell_type": "code",
   "execution_count": 80,
   "metadata": {},
   "outputs": [
    {
     "data": {
      "text/plain": [
       "1"
      ]
     },
     "execution_count": 80,
     "metadata": {},
     "output_type": "execute_result"
    }
   ],
   "source": [
    "tracks['players']"
   ]
  },
  {
   "cell_type": "code",
   "execution_count": 82,
   "metadata": {},
   "outputs": [],
   "source": [
    "def add_track_data(tracks, category, frame_num, track_id, bbox):\n",
    "    while len(tracks[category]) <= frame_num:\n",
    "        tracks[category].append({})\n",
    "    tracks[category][frame_num][track_id] = {\"bbox\": bbox}"
   ]
  },
  {
   "cell_type": "code",
   "execution_count": 84,
   "metadata": {},
   "outputs": [],
   "source": [
    "add_track_data(tracks, \"players\", 0, 0, dd_with_track[0].xyxy.tolist()[0])"
   ]
  },
  {
   "cell_type": "code",
   "execution_count": 90,
   "metadata": {},
   "outputs": [
    {
     "data": {
      "text/plain": [
       "{'bbox': [586.4676513671875,\n",
       "  589.185302734375,\n",
       "  630.5856323242188,\n",
       "  673.9056396484375]}"
      ]
     },
     "execution_count": 90,
     "metadata": {},
     "output_type": "execute_result"
    }
   ],
   "source": [
    "tracks[\"players\"][0][0]"
   ]
  }
 ],
 "metadata": {
  "kernelspec": {
   "display_name": ".venv",
   "language": "python",
   "name": "python3"
  },
  "language_info": {
   "codemirror_mode": {
    "name": "ipython",
    "version": 3
   },
   "file_extension": ".py",
   "mimetype": "text/x-python",
   "name": "python",
   "nbconvert_exporter": "python",
   "pygments_lexer": "ipython3",
   "version": "3.12.1"
  }
 },
 "nbformat": 4,
 "nbformat_minor": 2
}
