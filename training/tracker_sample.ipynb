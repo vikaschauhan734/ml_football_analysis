{
 "cells": [
  {
   "cell_type": "code",
   "execution_count": 17,
   "metadata": {},
   "outputs": [],
   "source": [
    "from ultralytics import YOLO\n",
    "import cv2"
   ]
  },
  {
   "cell_type": "code",
   "execution_count": 18,
   "metadata": {},
   "outputs": [],
   "source": [
    "model = YOLO('D:/projects/football_analysis/models/best_11n.pt')"
   ]
  },
  {
   "cell_type": "code",
   "execution_count": 19,
   "metadata": {},
   "outputs": [],
   "source": [
    "cap = cv2.VideoCapture('D:/projects/football_analysis/input_videos/08fd33_4.mp4')\n",
    "frames = []\n",
    "while True:\n",
    "    ret, frame = cap.read()\n",
    "    if not ret:\n",
    "        break\n",
    "    frames.append(frame)"
   ]
  },
  {
   "cell_type": "code",
   "execution_count": 21,
   "metadata": {},
   "outputs": [
    {
     "data": {
      "text/plain": [
       "list"
      ]
     },
     "execution_count": 21,
     "metadata": {},
     "output_type": "execute_result"
    }
   ],
   "source": [
    "type(detection)"
   ]
  },
  {
   "cell_type": "code",
   "execution_count": 22,
   "metadata": {},
   "outputs": [
    {
     "data": {
      "text/plain": [
       "{0: 'ball', 1: 'goalkeeper', 2: 'player', 3: 'referee'}"
      ]
     },
     "execution_count": 22,
     "metadata": {},
     "output_type": "execute_result"
    }
   ],
   "source": [
    "detection[0].names"
   ]
  },
  {
   "cell_type": "code",
   "execution_count": 20,
   "metadata": {},
   "outputs": [
    {
     "name": "stdout",
     "output_type": "stream",
     "text": [
      "\n",
      "0: 384x640 1 ball, 1 goalkeeper, 20 players, 4 referees, 53.3ms\n",
      "1: 384x640 1 ball, 1 goalkeeper, 20 players, 4 referees, 53.3ms\n",
      "2: 384x640 1 goalkeeper, 22 players, 4 referees, 53.3ms\n",
      "3: 384x640 1 ball, 1 goalkeeper, 22 players, 4 referees, 53.3ms\n",
      "4: 384x640 1 ball, 1 goalkeeper, 22 players, 3 referees, 53.3ms\n",
      "5: 384x640 1 goalkeeper, 23 players, 4 referees, 53.3ms\n",
      "6: 384x640 1 goalkeeper, 23 players, 4 referees, 53.3ms\n",
      "7: 384x640 1 ball, 1 goalkeeper, 22 players, 4 referees, 53.3ms\n",
      "8: 384x640 1 ball, 1 goalkeeper, 20 players, 4 referees, 53.3ms\n",
      "9: 384x640 1 ball, 20 players, 3 referees, 53.3ms\n",
      "10: 384x640 1 ball, 20 players, 3 referees, 53.3ms\n",
      "11: 384x640 19 players, 3 referees, 53.3ms\n",
      "12: 384x640 20 players, 3 referees, 53.3ms\n",
      "13: 384x640 1 ball, 20 players, 3 referees, 53.3ms\n",
      "14: 384x640 1 ball, 21 players, 3 referees, 53.3ms\n",
      "15: 384x640 23 players, 3 referees, 53.3ms\n",
      "16: 384x640 21 players, 3 referees, 53.3ms\n",
      "17: 384x640 1 ball, 21 players, 3 referees, 53.3ms\n",
      "18: 384x640 1 ball, 21 players, 3 referees, 53.3ms\n",
      "19: 384x640 1 ball, 21 players, 3 referees, 53.3ms\n",
      "Speed: 5.0ms preprocess, 53.3ms inference, 0.2ms postprocess per image at shape (1, 3, 384, 640)\n",
      "\n",
      "0: 384x640 1 ball, 1 goalkeeper, 20 players, 4 referees, 56.5ms\n",
      "1: 384x640 1 ball, 1 goalkeeper, 20 players, 4 referees, 56.5ms\n",
      "2: 384x640 1 goalkeeper, 22 players, 4 referees, 56.5ms\n",
      "3: 384x640 1 ball, 1 goalkeeper, 22 players, 4 referees, 56.5ms\n",
      "4: 384x640 1 ball, 1 goalkeeper, 22 players, 3 referees, 56.5ms\n",
      "5: 384x640 1 goalkeeper, 23 players, 4 referees, 56.5ms\n",
      "6: 384x640 1 goalkeeper, 23 players, 4 referees, 56.5ms\n",
      "7: 384x640 1 ball, 1 goalkeeper, 22 players, 4 referees, 56.5ms\n",
      "8: 384x640 1 ball, 1 goalkeeper, 20 players, 4 referees, 56.5ms\n",
      "9: 384x640 1 ball, 20 players, 3 referees, 56.5ms\n",
      "10: 384x640 1 ball, 20 players, 3 referees, 56.5ms\n",
      "11: 384x640 19 players, 3 referees, 56.5ms\n",
      "12: 384x640 20 players, 3 referees, 56.5ms\n",
      "13: 384x640 1 ball, 20 players, 3 referees, 56.5ms\n",
      "14: 384x640 1 ball, 21 players, 3 referees, 56.5ms\n",
      "15: 384x640 23 players, 3 referees, 56.5ms\n",
      "16: 384x640 21 players, 3 referees, 56.5ms\n",
      "17: 384x640 1 ball, 21 players, 3 referees, 56.5ms\n",
      "18: 384x640 1 ball, 21 players, 3 referees, 56.5ms\n",
      "19: 384x640 1 ball, 21 players, 3 referees, 56.5ms\n",
      "Speed: 4.5ms preprocess, 56.5ms inference, 1.0ms postprocess per image at shape (1, 3, 384, 640)\n"
     ]
    }
   ],
   "source": [
    "detections = []\n",
    "detection = model.predict(frames[:20], conf=0.1)\n",
    "detections += detection\n",
    "detection2 = model.predict(frames[:20], conf=0.1)\n",
    "detections += detection2"
   ]
  },
  {
   "cell_type": "code",
   "execution_count": 25,
   "metadata": {},
   "outputs": [
    {
     "data": {
      "text/plain": [
       "list"
      ]
     },
     "execution_count": 25,
     "metadata": {},
     "output_type": "execute_result"
    }
   ],
   "source": [
    "type(detections)"
   ]
  },
  {
   "cell_type": "code",
   "execution_count": 26,
   "metadata": {},
   "outputs": [
    {
     "data": {
      "text/plain": [
       "40"
      ]
     },
     "execution_count": 26,
     "metadata": {},
     "output_type": "execute_result"
    }
   ],
   "source": [
    "len(detections)"
   ]
  },
  {
   "cell_type": "code",
   "execution_count": 28,
   "metadata": {},
   "outputs": [
    {
     "data": {
      "text/plain": [
       "{0: 'ball', 1: 'goalkeeper', 2: 'player', 3: 'referee'}"
      ]
     },
     "execution_count": 28,
     "metadata": {},
     "output_type": "execute_result"
    }
   ],
   "source": [
    "detections[1].names"
   ]
  },
  {
   "cell_type": "code",
   "execution_count": null,
   "metadata": {},
   "outputs": [],
   "source": []
  }
 ],
 "metadata": {
  "kernelspec": {
   "display_name": ".venv",
   "language": "python",
   "name": "python3"
  },
  "language_info": {
   "codemirror_mode": {
    "name": "ipython",
    "version": 3
   },
   "file_extension": ".py",
   "mimetype": "text/x-python",
   "name": "python",
   "nbconvert_exporter": "python",
   "pygments_lexer": "ipython3",
   "version": "3.12.1"
  }
 },
 "nbformat": 4,
 "nbformat_minor": 2
}
